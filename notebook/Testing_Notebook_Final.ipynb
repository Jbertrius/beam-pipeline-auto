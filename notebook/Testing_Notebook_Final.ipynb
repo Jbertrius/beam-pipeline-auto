{
 "cells": [
  {
   "cell_type": "markdown",
   "metadata": {},
   "source": [
    "# Import des librairies"
   ]
  },
  {
   "cell_type": "code",
   "execution_count": 10,
   "metadata": {},
   "outputs": [],
   "source": [
    "from sklearn.externals import joblib\n",
    "import numpy as np\n",
    "import pandas as pd\n",
    "import datetime as dt\n",
    "import logging\n",
    "import pickle\n",
    "from collections import Counter\n",
    "import operator\n",
    "from sklearn.pipeline import Pipeline"
   ]
  },
  {
   "cell_type": "markdown",
   "metadata": {},
   "source": [
    "# Définition des fonctions de transformation"
   ]
  },
  {
   "cell_type": "code",
   "execution_count": 2,
   "metadata": {},
   "outputs": [],
   "source": [
    "def fn( _str ):\n",
    "    if ( len(_str) == 17 ):\n",
    "        return np.array([[_str[:3], _str[3:6], _str[6:8], _str[8], _str[-8], _str[-7], _str[-6:] ]], dtype='object')\n",
    "    else:\n",
    "        return []"
   ]
  },
  {
   "cell_type": "code",
   "execution_count": 3,
   "metadata": {},
   "outputs": [],
   "source": [
    "from sklearn.base import BaseEstimator, TransformerMixin\n",
    "\n",
    "# Fonction pour décomposer le VIN en plusieurs colonnes\n",
    "def define_column(df):\n",
    "    df = df[df['vin'].str.len() == 17]\n",
    "\n",
    "    df['wmi'] = df['vin'].str[:3]\n",
    "    df['vds'] = df['vin'].str[3:6]\n",
    "    df['chass'] = df['vin'].str[6:8]\n",
    "    df['checkD'] = df['vin'].str[8]\n",
    "    df['year'] = df['vin'].str[-8]  \n",
    "    df['plant'] = df['vin'].str[-7] \n",
    "    df['seq'] = df['vin'].str[-6:]\n",
    "    df['pays'] = df['wmi'].str[0]\n",
    "    df['fab'] = df['wmi'].str[1:]\n",
    "    df['flex'] = df['wmi'].str[1:] + df['chass'].str[-1]\n",
    "\n",
    "    df = df.drop('vin', 1)\n",
    "    df = df.drop('wmi', 1)\n",
    "\n",
    "    return df\n",
    "\n",
    "class VinTransformer(BaseEstimator, TransformerMixin):\n",
    "    def __init__(self, func):\n",
    "        self.func = func\n",
    "    def fit(self, X, y=None):\n",
    "        return self\n",
    "    def transform(self, X):\n",
    "        assert isinstance(X, pd.DataFrame)\n",
    "        return self.func(X)"
   ]
  },
  {
   "cell_type": "markdown",
   "metadata": {},
   "source": [
    "# Prediction"
   ]
  },
  {
   "cell_type": "markdown",
   "metadata": {},
   "source": [
    "##### Testing Loop"
   ]
  },
  {
   "cell_type": "code",
   "execution_count": 72,
   "metadata": {},
   "outputs": [],
   "source": [
    "# Function to load models and encoders\n",
    "# Le dernier modele se trouve dans le dossier .jupyter/chassi__s/*.*\n",
    "def model(s):\n",
    "    RdF_s = joblib.load('chassi__s/model/cls_%s'% s)\n",
    "    enc_s = joblib.load('chassi__s/encoder/enc_clus%s'%s)\n",
    "    labencoder_s = joblib.load('chassi__s/label/label_clus%s'%s)\n",
    "\n",
    "    transformer = Pipeline([  \n",
    "        ('vintransform', VinTransformer(define_column) ),\n",
    "        ('encoder', enc_s ),\n",
    "        ('clf', RdF_s )\n",
    "    ])  \n",
    "    return transformer,labencoder_s"
   ]
  },
  {
   "cell_type": "code",
   "execution_count": 11,
   "metadata": {},
   "outputs": [],
   "source": [
    "# Log file definition\n",
    "logging.basicConfig(filename='test_chassis-{}.log'.format(str(dt.datetime.now().date())),level=logging.DEBUG)\n",
    "logging.basicConfig(format='%(asctime)s : %(message)s', datefmt='%m/%d/%Y %I:%M:%S %p')"
   ]
  },
  {
   "cell_type": "markdown",
   "metadata": {},
   "source": [
    "## Different Test we can run"
   ]
  },
  {
   "cell_type": "markdown",
   "metadata": {},
   "source": [
    "#### VIN Français "
   ]
  },
  {
   "cell_type": "code",
   "execution_count": 107,
   "metadata": {},
   "outputs": [],
   "source": [
    "_testFR = pd.read_csv('chassis/df_vin_new.csv')\n",
    "\n",
    "# Rebuild VIN in one string\n",
    "_testFR['vin'] = _testFR['pays'] + \\\n",
    "_testFR['fab'] + \\\n",
    "_testFR['vds'] + \\\n",
    "_testFR['chass'] + \\\n",
    "_testFR['checkD']  + \\\n",
    "_testFR['year'].map(str) + \\\n",
    "_testFR['plant'] + \\\n",
    "_testFR['seq'].map(str)\n",
    "\n",
    "_testFR = _testFR[['vin','idvariante']]\n",
    "\n",
    "#Shuffle data\n",
    "_all = _testFR.sample(frac=1).reset_index(drop=True)"
   ]
  },
  {
   "cell_type": "markdown",
   "metadata": {},
   "source": [
    "#### VIN Espagnols "
   ]
  },
  {
   "cell_type": "code",
   "execution_count": null,
   "metadata": {},
   "outputs": [],
   "source": [
    "_all = pd.read_csv('testESP.csv')\n",
    "\n",
    "_all['resultat'] = _all['resultat'].str.replace(r'.([0-9]*).',r'\\1')\n",
    "_all = _all.rename(index=str, columns={\"resultat\": \"idvariante\"})\n",
    "_all['idvariante'] = _all['idvariante'].apply(pd.to_numeric) \n",
    "\n",
    "#Shuffle data\n",
    "_all = _all.sample(frac=1).reset_index(drop=True)"
   ]
  },
  {
   "cell_type": "markdown",
   "metadata": {},
   "source": [
    "#### VIN Suédois "
   ]
  },
  {
   "cell_type": "code",
   "execution_count": 17,
   "metadata": {},
   "outputs": [],
   "source": [
    "_all = pd.read_csv('testSE.csv')\n",
    "_all['resultat'] = _all['resultat'].str.replace(r'.([0-9]*).',r'\\1')\n",
    "_all = _all.rename(index=str, columns={\"resultat\": \"idvariante\"})\n",
    "_all['idvariante'] = _all['idvariante'].apply(pd.to_numeric) \n",
    "\n",
    "#Shuffle data\n",
    "_all = _all.sample(frac=1).reset_index(drop=True)"
   ]
  },
  {
   "cell_type": "markdown",
   "metadata": {},
   "source": [
    "##### After choosing a country, run the test"
   ]
  },
  {
   "cell_type": "code",
   "execution_count": 110,
   "metadata": {
    "scrolled": true
   },
   "outputs": [],
   "source": [
    "to_test = _all[['vin', 'idvariante']]"
   ]
  },
  {
   "cell_type": "code",
   "execution_count": null,
   "metadata": {},
   "outputs": [],
   "source": [
    "import warnings\n",
    "warnings.filterwarnings('ignore')\n",
    "model_clus, labelenc = model('clus')\n",
    "cpt = 0\n",
    "true = 0\n",
    "cpt_san = 0\n",
    "_di = {}\n",
    "wrong = []\n",
    "\n",
    "for i in range(20000):\n",
    "    _in_ = to_test.iloc[i:i+1,[0]]\n",
    "    out =  int(to_test.iloc[i:i+1,[1]]['idvariante'].values[0])\n",
    "    s = 'clus'\n",
    "    clus = labelenc.inverse_transform(model_clus.predict(_in_)[0])\n",
    "    #display(clus)\n",
    "    target_class = clus\n",
    "    n = clus\n",
    "    cpt += 1\n",
    "    \n",
    "    if ( n != 15 ):\n",
    "        cpt_san += 1\n",
    "        while ( n <= 35 ):\n",
    "            \n",
    "            _model, label = model(target_class)\n",
    "            niv = label.inverse_transform(_model.predict(_in_)[0])\n",
    "            target_class = str(target_class) + '_' + str(int(niv))\n",
    "\n",
    "\n",
    "\n",
    "            n = niv\n",
    "\n",
    "\n",
    "        if (n == int(out) ):\n",
    "            true += 1\n",
    "            logging.info('{}/{}'.format(_in_.iloc[0,0],n) )\n",
    "        else:\n",
    "            x = dict( zip(_model.classes_, _model.predict_proba( _in_ )[0]  ) ) \n",
    "            sorted_x =  sorted(x.items(), key=operator.itemgetter(1), reverse=True) \n",
    "            \n",
    "            pred_list = list(label.inverse_transform([x[0] for x in sorted_x[:5]]))\n",
    "            \n",
    "            if  int(out) in pred_list:\n",
    "                true += 1\n",
    "                #logging.info('{}/{}'.format(true,cpt_san) )\n",
    "            else:\n",
    "                wrong.append(_in_)\n",
    "                display(pred_list)\n",
    "                logging.info('{}/{}'.format(_in_, ','.join( [ str(x) for x in pred_list])) )\n",
    "                \n",
    "                try:\n",
    "                    _di[clus] += 1\n",
    "                except KeyError:\n",
    "                    _di[clus] = 1\n"
   ]
  },
  {
   "cell_type": "markdown",
   "metadata": {},
   "source": [
    "### Importantes variables à analyser après le test:<br/>\n",
    "- **wrong** - Contient les VIN erronés<br/>\n",
    "- **true** - Nombre de vin prédit correctement<br/>\n",
    "- **_di** - Dictionnaire contenant la repartition du nombre d'erreur par cluster de variante<br/>\n",
    "- **cpt** - Nombre total de VIN prédit"
   ]
  }
 ],
 "metadata": {
  "kernelspec": {
   "display_name": "Python 3",
   "language": "python",
   "name": "python3"
  },
  "language_info": {
   "codemirror_mode": {
    "name": "ipython",
    "version": 3
   },
   "file_extension": ".py",
   "mimetype": "text/x-python",
   "name": "python",
   "nbconvert_exporter": "python",
   "pygments_lexer": "ipython3",
   "version": "3.5.3"
  }
 },
 "nbformat": 4,
 "nbformat_minor": 2
}
